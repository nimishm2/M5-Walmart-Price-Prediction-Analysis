{
  "nbformat": 4,
  "nbformat_minor": 0,
  "metadata": {
    "colab": {
      "provenance": []
    },
    "kernelspec": {
      "name": "python3",
      "display_name": "Python 3"
    },
    "language_info": {
      "name": "python"
    }
  },
  "cells": [
    {
      "cell_type": "code",
      "execution_count": 2,
      "metadata": {
        "colab": {
          "base_uri": "https://localhost:8080/"
        },
        "id": "XVdHumIlvhHo",
        "outputId": "ff323a7c-f11a-4dde-cf80-2e8c69c03d1a"
      },
      "outputs": [
        {
          "output_type": "stream",
          "name": "stdout",
          "text": [
            "            date  wm_yr_wk    weekday  wday  month  year  event_name_1  \\\n",
            "0     2011-01-29     11101   Saturday     1      1  2011           NaN   \n",
            "1     2011-01-30     11101     Sunday     2      1  2011           NaN   \n",
            "2     2011-01-31     11101     Monday     3      1  2011           NaN   \n",
            "3     2011-02-01     11101    Tuesday     4      2  2011           NaN   \n",
            "4     2011-02-02     11101  Wednesday     5      2  2011           NaN   \n",
            "...          ...       ...        ...   ...    ...   ...           ...   \n",
            "1964  2016-06-15     11620  Wednesday     5      6  2016           NaN   \n",
            "1965  2016-06-16     11620   Thursday     6      6  2016           NaN   \n",
            "1966  2016-06-17     11620     Friday     7      6  2016           NaN   \n",
            "1967  2016-06-18     11621   Saturday     1      6  2016           NaN   \n",
            "1968  2016-06-19     11621     Sunday     2      6  2016  NBAFinalsEnd   \n",
            "\n",
            "     event_type_1  event_name_2 event_type_2  snap_CA  snap_TX  snap_WI  \n",
            "0             NaN           NaN          NaN        0        0        0  \n",
            "1             NaN           NaN          NaN        0        0        0  \n",
            "2             NaN           NaN          NaN        0        0        0  \n",
            "3             NaN           NaN          NaN        1        1        0  \n",
            "4             NaN           NaN          NaN        1        0        1  \n",
            "...           ...           ...          ...      ...      ...      ...  \n",
            "1964          NaN           NaN          NaN        0        1        1  \n",
            "1965          NaN           NaN          NaN        0        0        0  \n",
            "1966          NaN           NaN          NaN        0        0        0  \n",
            "1967          NaN           NaN          NaN        0        0        0  \n",
            "1968     Sporting  Father's day     Cultural        0        0        0  \n",
            "\n",
            "[1969 rows x 13 columns]\n"
          ]
        }
      ],
      "source": [
        "import pandas as pd\n",
        "calendar_df = pd.read_csv ('calendar.csv')\n",
        "print(calendar_df)"
      ]
    },
    {
      "cell_type": "code",
      "source": [
        "print(min(calendar_df[\"wm_yr_wk\"]))\n",
        "print(max(calendar_df[\"wm_yr_wk\"]))"
      ],
      "metadata": {
        "colab": {
          "base_uri": "https://localhost:8080/"
        },
        "id": "wWjlmdgn1Acz",
        "outputId": "bb206960-f05a-4ecf-eaaf-d2cfe6c47862"
      },
      "execution_count": 15,
      "outputs": [
        {
          "output_type": "stream",
          "name": "stdout",
          "text": [
            "11101\n",
            "11621\n"
          ]
        }
      ]
    },
    {
      "cell_type": "code",
      "source": [
        "sales_train_validation_df = pd.read_csv ('sales_train_validation.csv')\n",
        "print(sales_train_validation_df)"
      ],
      "metadata": {
        "colab": {
          "base_uri": "https://localhost:8080/"
        },
        "id": "A7CZZbeKv1Ta",
        "outputId": "cd595ce1-bfe0-44ec-a69c-c777cb298ead"
      },
      "execution_count": 4,
      "outputs": [
        {
          "output_type": "stream",
          "name": "stdout",
          "text": [
            "             item_id    dept_id   cat_id store_id state_id  d_1  d_2  d_3  \\\n",
            "0      HOBBIES_1_001  HOBBIES_1  HOBBIES     CA_1       CA    0    0    0   \n",
            "1      HOBBIES_1_002  HOBBIES_1  HOBBIES     CA_1       CA    0    0    0   \n",
            "2      HOBBIES_1_003  HOBBIES_1  HOBBIES     CA_1       CA    0    0    0   \n",
            "3      HOBBIES_1_004  HOBBIES_1  HOBBIES     CA_1       CA    0    0    0   \n",
            "4      HOBBIES_1_005  HOBBIES_1  HOBBIES     CA_1       CA    0    0    0   \n",
            "...              ...        ...      ...      ...      ...  ...  ...  ...   \n",
            "30485    FOODS_3_823    FOODS_3    FOODS     WI_3       WI    0    0    2   \n",
            "30486    FOODS_3_824    FOODS_3    FOODS     WI_3       WI    0    0    0   \n",
            "30487    FOODS_3_825    FOODS_3    FOODS     WI_3       WI    0    6    0   \n",
            "30488    FOODS_3_826    FOODS_3    FOODS     WI_3       WI    0    0    0   \n",
            "30489    FOODS_3_827    FOODS_3    FOODS     WI_3       WI    0    0    0   \n",
            "\n",
            "       d_4  d_5  ...  d_1904  d_1905  d_1906  d_1907  d_1908  d_1909  d_1910  \\\n",
            "0        0    0  ...       1       3       0       1       1       1       3   \n",
            "1        0    0  ...       0       0       0       0       0       1       0   \n",
            "2        0    0  ...       2       1       2       1       1       1       0   \n",
            "3        0    0  ...       1       0       5       4       1       0       1   \n",
            "4        0    0  ...       2       1       1       0       1       1       2   \n",
            "...    ...  ...  ...     ...     ...     ...     ...     ...     ...     ...   \n",
            "30485    2    0  ...       2       0       0       0       0       0       1   \n",
            "30486    0    0  ...       0       0       0       0       0       0       0   \n",
            "30487    2    2  ...       2       1       0       2       0       1       0   \n",
            "30488    0    0  ...       0       0       1       0       0       1       0   \n",
            "30489    0    0  ...       0       0       0       0       0       0       0   \n",
            "\n",
            "       d_1911  d_1912  d_1913  \n",
            "0           0       1       1  \n",
            "1           0       0       0  \n",
            "2           1       1       1  \n",
            "3           3       7       2  \n",
            "4           2       2       4  \n",
            "...       ...     ...     ...  \n",
            "30485       0       0       1  \n",
            "30486       0       1       0  \n",
            "30487       0       1       0  \n",
            "30488       3       1       3  \n",
            "30489       0       0       0  \n",
            "\n",
            "[30490 rows x 1918 columns]\n"
          ]
        }
      ]
    },
    {
      "cell_type": "code",
      "source": [
        "sell_prices_df = pd.read_csv ('sell_prices.csv')\n",
        "print(sell_prices_df)"
      ],
      "metadata": {
        "colab": {
          "base_uri": "https://localhost:8080/"
        },
        "id": "b1Qxzzn8wO2G",
        "outputId": "4cb4b796-26a6-42bc-9d18-bc918752e595"
      },
      "execution_count": 5,
      "outputs": [
        {
          "output_type": "stream",
          "name": "stdout",
          "text": [
            "        store_id        item_id  wm_yr_wk  sell_price\n",
            "0           CA_1  HOBBIES_1_001     11325        9.58\n",
            "1           CA_1  HOBBIES_1_001     11326        9.58\n",
            "2           CA_1  HOBBIES_1_001     11327        8.26\n",
            "3           CA_1  HOBBIES_1_001     11328        8.26\n",
            "4           CA_1  HOBBIES_1_001     11329        8.26\n",
            "...          ...            ...       ...         ...\n",
            "6841116     WI_3    FOODS_3_827     11617        1.00\n",
            "6841117     WI_3    FOODS_3_827     11618        1.00\n",
            "6841118     WI_3    FOODS_3_827     11619        1.00\n",
            "6841119     WI_3    FOODS_3_827     11620        1.00\n",
            "6841120     WI_3    FOODS_3_827     11621        1.00\n",
            "\n",
            "[6841121 rows x 4 columns]\n"
          ]
        }
      ]
    },
    {
      "cell_type": "code",
      "source": [
        "weights_validation_df = pd.read_csv ('weights_validation.csv')\n",
        "print(weights_validation_df)"
      ],
      "metadata": {
        "colab": {
          "base_uri": "https://localhost:8080/"
        },
        "id": "qGUe2vHEw8U3",
        "outputId": "f128654e-1830-495d-86c4-486fff099f26"
      },
      "execution_count": 6,
      "outputs": [
        {
          "output_type": "stream",
          "name": "stdout",
          "text": [
            "      Level_id    Agg_Level_1 Agg_Level_2  Dollar_Sales    weight\n",
            "0      Level12  HOBBIES_1_001        CA_1        224.94  0.000060\n",
            "1      Level12  HOBBIES_1_002        CA_1          7.94  0.000002\n",
            "2      Level12  HOBBIES_1_003        CA_1         47.52  0.000013\n",
            "3      Level12  HOBBIES_1_004        CA_1        236.64  0.000063\n",
            "4      Level12  HOBBIES_1_005        CA_1        109.44  0.000029\n",
            "...        ...            ...         ...           ...       ...\n",
            "42835   Level3           WI_3           X     317070.04  0.084593\n",
            "42836   Level2             CA           X    1658087.41  0.442371\n",
            "42837   Level2             TX           X    1009372.17  0.269297\n",
            "42838   Level2             WI           X    1080720.47  0.288332\n",
            "42839   Level1          Total           X    3748180.05  1.000000\n",
            "\n",
            "[42840 rows x 5 columns]\n"
          ]
        }
      ]
    },
    {
      "cell_type": "code",
      "source": [
        "import matplotlib.pyplot as plt\n",
        "# calendar_df.plot(x='weekday', y='')\n",
        "calendar_df['year'].value_counts().plot(kind='bar')\n"
      ],
      "metadata": {
        "colab": {
          "base_uri": "https://localhost:8080/",
          "height": 469
        },
        "id": "yXusSN92xIH6",
        "outputId": "d2882486-0e9d-42be-94f7-0aac7bd66aee"
      },
      "execution_count": 11,
      "outputs": [
        {
          "output_type": "execute_result",
          "data": {
            "text/plain": [
              "<Axes: >"
            ]
          },
          "metadata": {},
          "execution_count": 11
        },
        {
          "output_type": "display_data",
          "data": {
            "text/plain": [
              "<Figure size 640x480 with 1 Axes>"
            ],
            "image/png": "[encoded data removed]"
          },
          "metadata": {}
        }
      ]
    },
    {
      "cell_type": "code",
      "source": [
        "sales_train_validation_df['state_id'].value_counts().plot(kind='bar')"
      ],
      "metadata": {
        "colab": {
          "base_uri": "https://localhost:8080/",
          "height": 453
        },
        "id": "_Gtr7dVkzkVr",
        "outputId": "ed776e28-49f3-4f82-df06-88b241223b21"
      },
      "execution_count": 12,
      "outputs": [
        {
          "output_type": "execute_result",
          "data": {
            "text/plain": [
              "<Axes: >"
            ]
          },
          "metadata": {},
          "execution_count": 12
        },
        {
          "output_type": "display_data",
          "data": {
            "text/plain": [
              "<Figure size 640x480 with 1 Axes>"
            ],
            "image/png": "[encoded data removed]"
          },
          "metadata": {}
        }
      ]
    },
    {
      "cell_type": "code",
      "source": [
        "sell_prices_df.plot.scatter(x='item_id', y='sell_price')"
      ],
      "metadata": {
        "colab": {
          "base_uri": "https://localhost:8080/",
          "height": 468
        },
        "id": "UeMefbUk0HZt",
        "outputId": "25799d55-105a-4184-a4c5-89e24ccf6f40"
      },
      "execution_count": 16,
      "outputs": [
        {
          "output_type": "execute_result",
          "data": {
            "text/plain": [
              "<Axes: xlabel='item_id', ylabel='sell_price'>"
            ]
          },
          "metadata": {},
          "execution_count": 16
        },
        {
          "output_type": "display_data",
          "data": {
            "text/plain": [
              "<Figure size 640x480 with 1 Axes>"
            ],
            "image/png": "[encoded data removed]"
          },
          "metadata": {}
        }
      ]
    },
    {
      "cell_type": "code",
      "source": [
        "sell_prices_df['"
      ],
      "metadata": {
        "id": "c0RF5nC302Ur"
      },
      "execution_count": null,
      "outputs": []
    }
  ]
}